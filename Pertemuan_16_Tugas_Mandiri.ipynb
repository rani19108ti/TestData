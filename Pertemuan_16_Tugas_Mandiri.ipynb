{
  "cells": [
    {
      "cell_type": "markdown",
      "metadata": {
        "id": "VsCziV7zvc2N"
      },
      "source": [
        "![header%20ipynb.png](attachment:header%20ipynb.png)"
      ]
    },
    {
      "cell_type": "markdown",
      "metadata": {
        "id": "lZiK9olzvc2r"
      },
      "source": [
        "# Hands-On\n",
        "---\n",
        "\n",
        "Hands-On ini digunakan pada kegiatan Microcredential Associate Data Scientist 2021"
      ]
    },
    {
      "cell_type": "markdown",
      "metadata": {
        "id": "9-bak6RGvc2v"
      },
      "source": [
        "# Tugas Mandiri Pertemuan 16\n",
        "---\n",
        "Pertemuan 16 (enambelas) pada Microcredential Associate Data Scientist 2021 menyampaikan materi mengenai Membangun model: Evaluasi. silakan Anda kerjakan Latihan 1 s/d 5. Output yang anda lihat merupakan panduan yang dapat Anda ikuti dalam penulisan code :)"
      ]
    },
    {
      "cell_type": "markdown",
      "metadata": {
        "id": "PrQVcF-ldGWQ"
      },
      "source": [
        "<h1> Soal 1: Pemahaman Tentang Model Evaluasi</h1>\n",
        "\n",
        "Jawab pertanyaan di bawah ini dengan bahasa masing-masing?\n",
        "\n",
        "1. Apa perbedaan antara data latih, data validasi, dan data test?\n",
        "2. Bagaimana cara kita menilai performa suatu model?\n",
        "3. Apa itu Confusion Matrix? Jelaskan secara lengkap!\n",
        "4. Apa itu Classification Report dari sklearn?"
      ]
    },
    {
      "cell_type": "markdown",
      "metadata": {
        "id": "sr6D5UIhgpwO"
      },
      "source": [
        "\n",
        " <p style=\"color:#FF0000\">Jawab:</p>\n",
        "\n"
      ]
    },
    {
      "cell_type": "markdown",
      "metadata": {
        "id": "uY-s7-KDgrkV"
      },
      "source": [
        "1. Perbedaan data latih (train data), data validasi (validation data), dan data test adalah: \n",
        "\n",
        "Data latih: Sampel data yang digunakan agar fit dengan model. Data ini adalah jenis data yang membangun the machine learning algorithm. Ilmuwan data memasukkan data masukan algoritme, yang sesuai dengan keluaran yang diharapkan. Model mengevaluasi data berulang kali untuk mempelajari lebih lanjut tentang perilaku data dan kemudian menyesuaikan diri untuk memenuhi tujuan yang dimaksudkan.\n",
        "\n",
        "Data Validasi: Sampel data yang digunakan untuk memberikan evaluasi yang tidak bias dari model yang fit dengan data latih saat tuning hyperparameter model. Selama pelatihan, data validasi memasukkan data baru ke dalam model yang belum dievaluasi sebelumnya. Data validasi memberikan tes pertama terhadap data yang tidak terlihat, memungkinkan ilmuwan data untuk mengevaluasi seberapa baik model membuat prediksi berdasarkan data baru. Tidak semua ilmuwan data menggunakan data validasi, tetapi dapat memberikan beberapa informasi bermanfaat untuk mengoptimalkan hiperparameter, yang memengaruhi cara model menilai data.\n",
        "\n",
        "Test Dataset: Sampel data yang digunakan untuk memberikan evaluasi yang tidak bias dari model akhir yang fit dengan data latih. Setelah model dibangun, data pengujian sekali lagi memvalidasi bahwa model tersebut dapat membuat prediksi yang akurat. Jika data pelatihan dan validasi menyertakan label untuk memantau metrik kinerja model, data pengujian harus tidak diberi label. Data pengujian memberikan pemeriksaan akhir dunia nyata dari kumpulan data yang tidak terlihat untuk mengonfirmasi bahwa algoritme ML telah dilatih secara efektif.\n",
        "\n"
      ]
    },
    {
      "cell_type": "markdown",
      "source": [
        "2. Bagaimana cara kita menilai performa suatu model?\n",
        "Beberapa metrik yang digunakan untuk mengevaluasi suatu model adalah⁉\n",
        "\n",
        "**Metrics for Classification task!**\n",
        "A classification problem can be solved in two ways. First by using class labels or second by using probability scores.\n",
        "Classification metrics: true positives, true negatives, false positive, false negatives\n",
        "Ke-empat jenis outcomes ini biasanya di-plot dalam sebuah confusion matrix.\n",
        "\n",
        "Selanjutnya, tiga metrik utama yg digunakan untuk meng-evaluate sebuah classification model adalah accuracy, precision, and recall.\n",
        "Accuracy adalah the percentage of correct predictions for the test data. It can be calculated easily by dividing the number of correct predictions by the number of total predictions.\n",
        "\n",
        "Accuracy = correct predictions/ all predictions\n",
        "\n",
        "Precision is defined as the fraction of relevant examples (true positives) among all of the examples which were predicted to belong in a certain class.\n",
        "It answers \"How many selected items are relevant?\"\n",
        "Precision = true positives/(true positives + false positives)\n",
        "\n",
        "Recall is defined as the fraction of examples which were predicted to belong to a class with respect to all of the examples that truly belong in the class.\n",
        "It answers \"How many relevant items are selected?\"\n",
        "Recall = true positives/ (true positives + false negatives)\n",
        "\n",
        "F1 score is something in between precision and recall\n",
        "\n",
        "ROC dan AUC\n",
        "ROC = Receiver Operating Characteristic Curve \n",
        "This is mostly used for binary classification, however, there is an extension for multi-class classification which is not used often. So for the binary classification, the model predicts some score like probability score which is in the range of 0 to 1. The higher the score, the higher is the chance of it belonging to the positive class. AUC is nothing but the Area Under the Curve which also ranges between 0 and 1.\n",
        "\n",
        "AUC = Area Under the Cirve\n",
        "\n",
        "Log loss = the negative average of the log of corrected predicted probabilities for each instance\n",
        "\n",
        "**Metrics for Regression task!**\n",
        "Metrik yang digunakan untuk regression task adalah\n",
        "R² or Coefficient of Determination\n",
        "Median Absolute Deviation of Errors\n",
        "Median(eᵢ) is the central value of errors which is similar to mean and MAD (median absolute deviation) is similar to standard deviation. These are robust to outliers. If we get small values for these two, we can say that the model is performing well.\n",
        "Distribution of errors"
      ],
      "metadata": {
        "id": "e-QjuodN52-6"
      }
    },
    {
      "cell_type": "markdown",
      "source": [
        "3. Apa itu Confusion Matrix? Jelaskan secara lengkap!\n",
        "\n",
        "A confusion matrix is a summary of prediction results on a classification problem.\n",
        "\n",
        "The number of correct and incorrect predictions are summarized with count values and broken down by each class. This is the key to the confusion matrix.\n",
        "\n",
        "The confusion matrix shows the ways in which your classification model\n",
        "is confused when it makes predictions.\n",
        "\n",
        "It gives you insight not only into the errors being made by your classifier but more importantly the types of errors that are being made.\n",
        "\n",
        "It is this breakdown that overcomes the limitation of using classification accuracy alone.\n",
        "\n",
        "How to Calculate a Confusion Matrix\n",
        "Below is the process for calculating a confusion Matrix.\n",
        "\n",
        "You need a test dataset or a validation dataset with expected outcome values.\n",
        "Make a prediction for each row in your test dataset.\n",
        "From the expected outcomes and predictions count:\n",
        "The number of correct predictions for each class.\n",
        "The number of incorrect predictions for each class, organized by the class that was predicted.\n",
        "These numbers are then organized into a table, or a matrix as follows:\n",
        "\n",
        "Expected down the side: Each row of the matrix corresponds to a predicted class.\n",
        "Predicted across the top: Each column of the matrix corresponds to an actual class.\n",
        "The counts of correct and incorrect classification are then filled into the table.\n",
        "\n",
        "The total number of correct predictions for a class go into the expected row for that class value and the predicted column for that class value.\n",
        "\n",
        "In the same way, the total number of incorrect predictions for a class go into the expected row for that class value and the predicted column for that class value."
      ],
      "metadata": {
        "id": "-OacqYUl6Nk3"
      }
    },
    {
      "cell_type": "markdown",
      "source": [
        "4. Apa itu Classification Report dari sklearn?\n",
        "\n",
        "A Classification report is used to measure the quality of predictions from a classification algorithm. The report shows the main classification metrics precision, recall and f1-score on a per-class basis."
      ],
      "metadata": {
        "id": "OqMk9zID85mU"
      }
    },
    {
      "cell_type": "markdown",
      "metadata": {
        "id": "Fv2TVsgAdGWY"
      },
      "source": [
        "<h1>Soal 2: Aplikasi Model Evaluasi</h1>\n",
        "\n",
        "Kali ini kita akan menggunakan data untuk memprediksi kelangsungan hidup pasien yang telah mengalami operasi payudara. Dengan informasi yang dimiliki terkait pasien, kita akan membuat model untuk memprediksi apakah pasien akan bertahan hidup dalam waktu lebih dari 5 tahun atau tidak.\n",
        "\n",
        "Lebih Lengkapnya kalian bisa membaca informasi tentang dataset di link berikut: https://raw.githubusercontent.com/jbrownlee/Datasets/master/haberman.names\n",
        "\n",
        "Buat model Klasifikasi (Model/Algoritma Bebas) untuk memprediksi status pasien dengan ketentuan sebagai berikut:\n",
        "\n",
        "1. Bagi kedua data ini menjadi data training dan data test dengan test_size=0.25.\n",
        "3. Pelajar tentang metrics roc_auc_score kemudian buatlah model dan evaluasi dengan menggunakan teknik cross-validation dengan scoring 'roc_auc'. Baca https://scikit-learn.org/stable/modules/generated/sklearn.model_selection.cross_val_score.html untuk menggunakan metric roc_auc saat cross-validation.\n",
        "3. Berapa score rata2 dari model dengan teknik cross-validation tersebut?\n",
        "4. Prediksi data test dengan model yang telah kalian buat!\n",
        "5. Bagaimana hasil confusion matrix dari hasil prediksi tersebut?\n",
        "6. Bagaimana classification report dari hasil prediksi tersebut?\n",
        "5. Seberapa baik model anda dalam memprediksi seorang pasien mempunyai status positive?\n",
        "6. Seberapa baik model anda dalam memprediksi seorang pasien mempunyai status negatif?"
      ]
    },
    {
      "cell_type": "markdown",
      "metadata": {
        "id": "cxhojGRCvc3G"
      },
      "source": [
        "### Load Dataset "
      ]
    },
    {
      "cell_type": "code",
      "execution_count": 1,
      "metadata": {
        "id": "l_zK8Mqb-9Z6"
      },
      "outputs": [],
      "source": [
        "# import library pandas\n",
        "import pandas as pd\n",
        "\n",
        "# Load Dataset\n",
        "url = 'https://raw.githubusercontent.com/jbrownlee/Datasets/master/haberman.csv'\n",
        "list_cols = ['Age', \"Patient's Years\", \"N_positive_ax\", \"survival_status\"]\n",
        "df = pd.read_csv(url, names=list_cols)"
      ]
    },
    {
      "cell_type": "code",
      "execution_count": 2,
      "metadata": {
        "colab": {
          "base_uri": "https://localhost:8080/",
          "height": 206
        },
        "id": "YrbPNGtHdGXV",
        "outputId": "1652bf6e-97ba-4197-963b-e72ec3fdeb95"
      },
      "outputs": [
        {
          "output_type": "execute_result",
          "data": {
            "text/html": [
              "<div>\n",
              "<style scoped>\n",
              "    .dataframe tbody tr th:only-of-type {\n",
              "        vertical-align: middle;\n",
              "    }\n",
              "\n",
              "    .dataframe tbody tr th {\n",
              "        vertical-align: top;\n",
              "    }\n",
              "\n",
              "    .dataframe thead th {\n",
              "        text-align: right;\n",
              "    }\n",
              "</style>\n",
              "<table border=\"1\" class=\"dataframe\">\n",
              "  <thead>\n",
              "    <tr style=\"text-align: right;\">\n",
              "      <th></th>\n",
              "      <th>Age</th>\n",
              "      <th>Patient's Years</th>\n",
              "      <th>N_positive_ax</th>\n",
              "      <th>survival_status</th>\n",
              "    </tr>\n",
              "  </thead>\n",
              "  <tbody>\n",
              "    <tr>\n",
              "      <th>0</th>\n",
              "      <td>30</td>\n",
              "      <td>64</td>\n",
              "      <td>1</td>\n",
              "      <td>1</td>\n",
              "    </tr>\n",
              "    <tr>\n",
              "      <th>1</th>\n",
              "      <td>30</td>\n",
              "      <td>62</td>\n",
              "      <td>3</td>\n",
              "      <td>1</td>\n",
              "    </tr>\n",
              "    <tr>\n",
              "      <th>2</th>\n",
              "      <td>30</td>\n",
              "      <td>65</td>\n",
              "      <td>0</td>\n",
              "      <td>1</td>\n",
              "    </tr>\n",
              "    <tr>\n",
              "      <th>3</th>\n",
              "      <td>31</td>\n",
              "      <td>59</td>\n",
              "      <td>2</td>\n",
              "      <td>1</td>\n",
              "    </tr>\n",
              "    <tr>\n",
              "      <th>4</th>\n",
              "      <td>31</td>\n",
              "      <td>65</td>\n",
              "      <td>4</td>\n",
              "      <td>1</td>\n",
              "    </tr>\n",
              "  </tbody>\n",
              "</table>\n",
              "</div>"
            ],
            "text/plain": [
              "   Age  Patient's Years  N_positive_ax  survival_status\n",
              "0   30               64              1                1\n",
              "1   30               62              3                1\n",
              "2   30               65              0                1\n",
              "3   31               59              2                1\n",
              "4   31               65              4                1"
            ]
          },
          "metadata": {},
          "execution_count": 2
        }
      ],
      "source": [
        "# tampilkan 5 baris awal dataset dengan function head()\n",
        "df.head()"
      ]
    },
    {
      "cell_type": "code",
      "execution_count": 3,
      "metadata": {
        "colab": {
          "base_uri": "https://localhost:8080/",
          "height": 0
        },
        "id": "-dxYNPg7dGX4",
        "outputId": "f459bd30-6d1e-4aa5-d8a8-d89d21f38121"
      },
      "outputs": [
        {
          "output_type": "execute_result",
          "data": {
            "text/plain": [
              "1    225\n",
              "2     81\n",
              "Name: survival_status, dtype: int64"
            ]
          },
          "metadata": {},
          "execution_count": 3
        }
      ],
      "source": [
        "# hitung jumlah masing\" data pada kolom survival_status\n",
        "df['survival_status'].value_counts()"
      ]
    },
    {
      "cell_type": "markdown",
      "metadata": {
        "id": "eJCo2wLKvc3h"
      },
      "source": [
        "### Build Model"
      ]
    },
    {
      "cell_type": "code",
      "execution_count": 4,
      "metadata": {
        "id": "8W2amvZgdGYX"
      },
      "outputs": [],
      "source": [
        "#import library train test split dan cross val\n",
        "from sklearn.model_selection import train_test_split, cross_val_score\n",
        "\n",
        "#import library Logistic regression\n",
        "from sklearn.linear_model import LogisticRegression\n",
        "\n",
        "#import library roc auc score\n",
        "from sklearn.metrics import roc_auc_score\n",
        "\n",
        "#import library scale\n",
        "from sklearn.preprocessing import scale\n",
        "\n",
        "#import library numpy\n",
        "import numpy as np"
      ]
    },
    {
      "cell_type": "code",
      "execution_count": 5,
      "metadata": {
        "id": "P8RWEGpzvc3o"
      },
      "outputs": [],
      "source": [
        "## pemisahan feature dan target (data target : 'survival_status')\n",
        "X = df.drop('survival_status', axis = 1)\n",
        "Xs = scale(X)\n",
        "y = df['survival_status']"
      ]
    },
    {
      "cell_type": "markdown",
      "metadata": {
        "id": "OsIcOW1Svc3z"
      },
      "source": [
        "#### NO 1"
      ]
    },
    {
      "cell_type": "code",
      "execution_count": 6,
      "metadata": {
        "id": "2JqTrduQvc30"
      },
      "outputs": [],
      "source": [
        "## pemisahan variabel test dan train dari data Xs dan y\n",
        "# test size= 25%, random state = 42, dan stratify = y\n",
        "\n",
        "from sklearn.model_selection import train_test_split\n",
        "\n",
        "X_train, X_test, y_train, y_test = train_test_split(Xs, y, test_size=0.25, random_state=42, stratify=y)"
      ]
    },
    {
      "cell_type": "code",
      "execution_count": 7,
      "metadata": {
        "id": "snuLQX6kvc33"
      },
      "outputs": [],
      "source": [
        "## pembuatan objek model\n",
        "model_logReg = LogisticRegression(random_state = 42)\n",
        "\n",
        "## latih model\n",
        "model_logReg.fit(X_train, y_train)\n",
        "\n",
        "## prediksi.\n",
        "y_predict = model_logReg.predict(X_test)"
      ]
    },
    {
      "cell_type": "markdown",
      "metadata": {
        "id": "LE0LyjWdvc36"
      },
      "source": [
        "#### NO 2"
      ]
    },
    {
      "cell_type": "code",
      "source": [
        "## menghitung cross_val_score dengan scoring = 'roc_auc'\n",
        "## parameter cv = 10 \n",
        "score = cross_val_score(model_logReg, X, y, scoring = 'roc_auc', cv = 10)\n",
        "print(score)"
      ],
      "metadata": {
        "colab": {
          "base_uri": "https://localhost:8080/",
          "height": 0
        },
        "id": "LHUHOoqNPVT-",
        "outputId": "a19177bc-39f8-4100-ad40-7e571da3858a"
      },
      "execution_count": 8,
      "outputs": [
        {
          "output_type": "stream",
          "name": "stdout",
          "text": [
            "[0.44021739 0.80978261 0.67391304 0.69021739 0.70380435 0.79292929\n",
            " 0.875      0.62784091 0.67613636 0.61363636]\n"
          ]
        }
      ]
    },
    {
      "cell_type": "markdown",
      "metadata": {
        "id": "JdJs__56vc4A"
      },
      "source": [
        "#### NO 3"
      ]
    },
    {
      "cell_type": "code",
      "execution_count": 9,
      "metadata": {
        "colab": {
          "base_uri": "https://localhost:8080/",
          "height": 0
        },
        "id": "LedKNcvNeQqt",
        "outputId": "ca4092af-9a70-4390-9952-4ce07fbdb9ff"
      },
      "outputs": [
        {
          "output_type": "execute_result",
          "data": {
            "text/plain": [
              "0.6903477711901624"
            ]
          },
          "metadata": {},
          "execution_count": 9
        }
      ],
      "source": [
        "# cetak rata-rata nilai rata-rata auc score\n",
        "score.mean()"
      ]
    },
    {
      "cell_type": "markdown",
      "metadata": {
        "id": "aXZW3KQovc4H"
      },
      "source": [
        "#### NO 4"
      ]
    },
    {
      "cell_type": "code",
      "source": [
        "# Prediksi data test dengan model yang telah kalian buat \n",
        "auc_score = roc_auc_score(y_test, y_predict)\n",
        "auc_score"
      ],
      "metadata": {
        "colab": {
          "base_uri": "https://localhost:8080/",
          "height": 0
        },
        "id": "vYpGuVrIQOUh",
        "outputId": "0667c446-45eb-4ca5-91a5-deed7f4d9b0a"
      },
      "execution_count": 10,
      "outputs": [
        {
          "output_type": "execute_result",
          "data": {
            "text/plain": [
              "0.5399122807017543"
            ]
          },
          "metadata": {},
          "execution_count": 10
        }
      ]
    },
    {
      "cell_type": "markdown",
      "metadata": {
        "id": "fNK0ZblmvdCm"
      },
      "source": [
        "#### NO 5"
      ]
    },
    {
      "cell_type": "code",
      "execution_count": 12,
      "metadata": {
        "id": "e23bVSGteUQV"
      },
      "outputs": [],
      "source": [
        "# import library confusion matrix dan classification report\n",
        "from sklearn.metrics import confusion_matrix, classification_report"
      ]
    },
    {
      "cell_type": "code",
      "source": [
        "# apply confusion matrix dan cetak nilai confusion matrix\n",
        "cm = confusion_matrix(y_test, y_predict, labels = (1,2))\n",
        "cm"
      ],
      "metadata": {
        "colab": {
          "base_uri": "https://localhost:8080/",
          "height": 0
        },
        "id": "DpSda5KBTa4X",
        "outputId": "ba94777a-c210-4830-c66a-e11f7d883ef0"
      },
      "execution_count": 13,
      "outputs": [
        {
          "output_type": "execute_result",
          "data": {
            "text/plain": [
              "array([[53,  4],\n",
              "       [17,  3]])"
            ]
          },
          "metadata": {},
          "execution_count": 13
        }
      ]
    },
    {
      "cell_type": "code",
      "source": [
        "# visualisasikan nilai confusion matrix ke dalam diagram heatmap\n",
        "import seaborn as sns\n",
        "sns.heatmap(cm, annot=True)"
      ],
      "metadata": {
        "colab": {
          "base_uri": "https://localhost:8080/",
          "height": 282
        },
        "id": "ezfES4s7VPJ0",
        "outputId": "5fd8239f-3081-4bac-d1d6-bbad638b3418"
      },
      "execution_count": 15,
      "outputs": [
        {
          "output_type": "execute_result",
          "data": {
            "text/plain": [
              "<matplotlib.axes._subplots.AxesSubplot at 0x7f24cfabeb90>"
            ]
          },
          "metadata": {},
          "execution_count": 15
        },
        {
          "output_type": "display_data",
          "data": {
            "image/png": "[encoded data removed]",
            "text/plain": [
              "<Figure size 432x288 with 2 Axes>"
            ]
          },
          "metadata": {
            "needs_background": "light"
          }
        }
      ]
    },
    {
      "cell_type": "markdown",
      "metadata": {
        "id": "gUHDstL9vdC0"
      },
      "source": [
        "#### NO 6"
      ]
    },
    {
      "cell_type": "code",
      "source": [
        "# cetak nilai classification_report\n",
        "print(classification_report(y_test, y_predict))"
      ],
      "metadata": {
        "colab": {
          "base_uri": "https://localhost:8080/",
          "height": 0
        },
        "id": "MaSRWCtrVbxO",
        "outputId": "185cd2c7-b9eb-4189-b0e5-900c99532645"
      },
      "execution_count": 16,
      "outputs": [
        {
          "output_type": "stream",
          "name": "stdout",
          "text": [
            "              precision    recall  f1-score   support\n",
            "\n",
            "           1       0.76      0.93      0.83        57\n",
            "           2       0.43      0.15      0.22        20\n",
            "\n",
            "    accuracy                           0.73        77\n",
            "   macro avg       0.59      0.54      0.53        77\n",
            "weighted avg       0.67      0.73      0.68        77\n",
            "\n"
          ]
        }
      ]
    },
    {
      "cell_type": "markdown",
      "metadata": {
        "id": "hKyfcadsvdC4"
      },
      "source": [
        "#### NO 7"
      ]
    },
    {
      "cell_type": "markdown",
      "metadata": {
        "id": "1rm8SxlrenkO"
      },
      "source": [
        "**- Bagaimana hasil confusion matrix dari hasil prediksi tersebut?** <br>\n",
        "**Hasil confusion matrix:**\n",
        "\n",
        "```\n",
        "array([[53,  4],\n",
        "       [17,  3]])\n",
        "```\n",
        "\n",
        "\n",
        "TP = 53 <br>\n",
        "TN = 3 <br>\n",
        "FP = 17 <br>\n",
        "FN = 4 <br>\n",
        "\n",
        "**Bagaimana classification report dari hasil prediksi?**\n",
        "\n",
        "<br>\n",
        "\n",
        "\n",
        "1 = bertahan hidup dalam waktu 5 tahun atau lebih <br>\n",
        "2 = bertahan hidup kurang dari 5 tahun <br>\n",
        "\n",
        "Precision, Recall dan F1 score untuk 1 (pasien bertahan hidup dalam waktu 5 tahun atau lebih) berturut-turut adalah 0.76      0.93      0.83 <br>\n",
        "\n",
        "Precision, Recall dan F1 score untuk 2 (bertahan hidup kurang dari 5 tahun) berturut-turut adalah  0.43      0.15      0.22 <br>\n",
        "\n",
        "\n",
        "**- Seberapa baik model anda dalam memprediksi seorang pasien mempunyai status positive? dari hasil classification_report diatas** <br>\n",
        "Bila dilihat dari angka FP (False Positive) yaitu 17, maka yang harus diamati dengan cermat karena memiliki dampak yang lebih besar sehingga Precision score (Accuracy of positive predictions) menjadi penting yaitu 1 = 0.76, dan 2 = 0.43\n",
        "False Positive memprediksi seorang pasien A dapat bertahan hidup dalam waktu 5 tahun atau lebih tetapi kenyataannya tidak. <br>\n",
        "Precision = TruePositives / (TruePositives + FalsePositives) <br>\n",
        "= 53/ (53+17) = 0.76 (**reasonable value but not outstanding**)\n",
        " \n",
        "**- Seberapa baik model anda dalam memprediksi seorang pasien mempunyai status negatif? dari hasil classification_report diatas**<br>\n",
        "Recall = TruePositives / (TruePositives + FalseNegatives <br>\n",
        "= 53/ (53+4) = 0.93 (**good recall**)\n"
      ]
    },
    {
      "cell_type": "markdown",
      "metadata": {
        "id": "I6v_dgoN-7wL"
      },
      "source": [
        "---"
      ]
    },
    {
      "cell_type": "markdown",
      "metadata": {
        "id": "teekoyIw--g2"
      },
      "source": [
        "<h1> Soal 3: Pemahaman Tentang Model Selection</h1>\n",
        "\n",
        "Jelaskan dengan bahasa sendiri!\n",
        "\n",
        "1. Apa itu Bias dan Variance?\n",
        "2. Apa itu Overfitting dan Underfitting?\n",
        "3. Apa yang bisa kita lakukan untuk mengatur kompleksitas dari model?\n",
        "4. Bagaimana model yang baik?\n",
        "5. Kapan kita menggunakan GridSearchcv dan kapan menggunakan RandomizedSearchCV?"
      ]
    },
    {
      "cell_type": "markdown",
      "metadata": {
        "id": "4a1l4RNf_FcU"
      },
      "source": [
        "\n",
        " <p style=\"color:#FF0000\">Jawab</p>\n",
        "\n",
        "\n"
      ]
    },
    {
      "cell_type": "markdown",
      "source": [
        "1. Apa itu Biasa dan Variance?\n",
        "\n",
        "Bias\n",
        "Bias adalah perbedaan antara rata rata hasil prediksi dari model ML yang kita develop dengan data nilai yang sebenarnya. Bias yang tinggi dikarenakan dalam pembangunan model ML, dilakukan terlalu sederhan (oversimplified). Faktor penyebab lain dikarenakan model ML yang di develop terlalu tidak terlalu berinteraksi dengan training data.\n",
        "\n",
        "Bias seringkali terjadi dalam development sistem machine learning.\n",
        "\n",
        "Variance\n",
        "Variance adalah variabel dari prediksi model untuk data tertentu dimana memberikan kita informasi perserbaran data kita. Model yang memiliki variance tinggi sangat memperhatikan hanya pada train data. High variance model, perform baik di train data. Tetapi jika disuguhkan data baru yang belum pernah ditemukan di train data. Model tersebut tidak dapat mengeneralisasikan secara baik dari identifikasi data baru tersebut. Alhasil model memprediksi dengan keliru.\n",
        "\n",
        "2. Apa itu Overfitting dan Underfitting?\n",
        "\n",
        "Overfitting adalah suatu keadaan dimana data yang digunakan untuk pelatihan itu adalah yang \"terbaik\". Sehingga apabila dilakukan tes dengan menggunakan data yang berbeda dapat mengurangi akurasi (hasil yang dibuat tidak sesuai yang diharapkan). Overfitting dapat terjadi ketika beberapa batasan didasarkan pada sifat khusus yang tidak membuat perbedaan pada data. Selain itu duplikasi data minor yang berlebihan juga dapat mengakibatkan terjadinya overfitting.\n",
        "\n",
        "Underfitting adalah keadaan dimana model pelatihan data yang dibuat tidak mewakilkan keseluruhan data yang akan digunakan nantinya. Sehingga menghasilkan performa yang buruk dalam pelatihan data. Underfitting terjadi karena model masih mempelajari struktur dari data. Hasilnya, tree bekerja dengan buruk pada masa pelatihan dan tes. Sebagaimana banyaknya node dalam pohon keputusan meningkat, tree memiliki galat pelatihan dan tes yang lebih kecil. Pada saat tree berukuran sangat besar, tingkat terjadinya galat tes mulai meningkat walaupun tingkat galat pelatihannya terus menurun.\n",
        "\n",
        "3. Apa yang bisa kita lakukan untuk mengatur kompleksitas dari model?\n",
        "Untuk mengatur kompleksitas model melalui: linear model and subset selection, shrinkage methods (including regularization), and dimensionality reduction.\n",
        "\n",
        "4. Bagaimana model yang baik?\n",
        "Jika Anda sedang mengerjakan classification problem, skor terbaik adalah akurasi 100%.\n",
        "\n",
        "Jika Anda sedang mengerjakan regression problem, skor terbaik adalah kesalahan 0,0.\n",
        "\n",
        "Skor ini tidak mungkin untuk mencapai batas atas/bawah. Semua masalah pemodelan prediksi memiliki kesalahan prediksi.Kesalahan berasal dari berbagai sumber seperti:\n",
        "\n",
        "Ketidaklengkapan sampel data.\n",
        "Noise dalam data.\n",
        "Sifat stokastik dari algoritma pemodelan.\n",
        "Anda tidak dapat mencapai skor terbaik, tetapi ada baiknya untuk mengetahui kinerja terbaik yang mungkin untuk ukuran yang Anda pilih. Anda tahu bahwa kinerja model yang sebenarnya akan berada dalam kisaran antara baseline dan skor terbaik.\n",
        "\n",
        "Sebagai gantinya, Anda harus mencari ruang dari kemungkinan model pada dataset Anda dan menemukan seperti apa skor yang baik dan buruk.\n",
        "\n",
        "5. Kapan kita menggunakan GridSearchcv dan kapan menggunakan RandomizedSearchCV?\n",
        "GridSearchCV hanya cocok untuk kumpulan data kecil. Dalam hal kumpulan data yang lebih besar, RandomizedSearchCV mengungguli GridSearchCV.\n"
      ],
      "metadata": {
        "id": "O2H0KrWazQY0"
      }
    },
    {
      "cell_type": "markdown",
      "metadata": {
        "id": "Svj_cgxF_IZv"
      },
      "source": [
        "---"
      ]
    },
    {
      "cell_type": "markdown",
      "metadata": {
        "id": "Hkh-PeRL_LZp"
      },
      "source": [
        "<h1> Soal 4: Aplikasi Model Selection</h1>\n",
        "\n",
        "1. Bagi kedua data berikut ini menjadi data training dan data test dengan test_size=0.25.\n",
        "2. Import library KNN dan GridSearchCV.\n",
        "3. Gunakan algoritma KNN dan fungsi GridSearchCV untuk hyperparameter tuning dan model selection.\n",
        "4. jumlah fold bebas!, gunakan scoring 'roc_auc'\n",
        "5. Definisikan kombinasi hyperparameter untuk model selection dengan GridSearchCV. kombinasi Hyperparameter bebas, baca lagi dokumentasi KNN di link berikut https://scikit-learn.org/stable/modules/generated/sklearn.neighbors.KNeighborsClassifier.html untuk memahami lagi jenis2 hyperparameter di algorithma KNN.\n",
        "6. Latih model terhadap data training.\n",
        "7. Apa hyperparameter terbaik untuk kombinasi hyperparameter kalian?\n",
        "8. Berapa score validasi terbaik dari model tersebut?\n",
        "9. Prediksi probabilitasi output dari model yang telah di buat terhadap data test. note : gunakan method .predict_proba() untuk menghasilkan output probabilitas\n",
        "\n",
        "10. Berapa nilai score roc_auc untuk data test? (y_predict)\n",
        "11. Apakah model anda termasuk baik, overtting, atau underfitting?\n"
      ]
    },
    {
      "cell_type": "markdown",
      "metadata": {
        "id": "KQj_zWAvvdDF"
      },
      "source": [
        "### Load Dataset "
      ]
    },
    {
      "cell_type": "code",
      "execution_count": 17,
      "metadata": {
        "id": "kASXqAiwvdDH"
      },
      "outputs": [],
      "source": [
        "# import library pandas\n",
        "import pandas as pd\n",
        "\n",
        "# Load Dataset\n",
        "url = 'https://raw.githubusercontent.com/jbrownlee/Datasets/master/haberman.csv'\n",
        "list_cols = ['Age', \"Patient's Years\", \"N_positive_ax\", \"survival_status\"]\n",
        "df2 = pd.read_csv(url, names=list_cols)"
      ]
    },
    {
      "cell_type": "code",
      "execution_count": 18,
      "metadata": {
        "colab": {
          "base_uri": "https://localhost:8080/",
          "height": 206
        },
        "id": "qb-AD43R_V_d",
        "outputId": "7579450c-3138-4875-9c04-c01d4076066c"
      },
      "outputs": [
        {
          "output_type": "execute_result",
          "data": {
            "text/html": [
              "<div>\n",
              "<style scoped>\n",
              "    .dataframe tbody tr th:only-of-type {\n",
              "        vertical-align: middle;\n",
              "    }\n",
              "\n",
              "    .dataframe tbody tr th {\n",
              "        vertical-align: top;\n",
              "    }\n",
              "\n",
              "    .dataframe thead th {\n",
              "        text-align: right;\n",
              "    }\n",
              "</style>\n",
              "<table border=\"1\" class=\"dataframe\">\n",
              "  <thead>\n",
              "    <tr style=\"text-align: right;\">\n",
              "      <th></th>\n",
              "      <th>Age</th>\n",
              "      <th>Patient's Years</th>\n",
              "      <th>N_positive_ax</th>\n",
              "      <th>survival_status</th>\n",
              "    </tr>\n",
              "  </thead>\n",
              "  <tbody>\n",
              "    <tr>\n",
              "      <th>0</th>\n",
              "      <td>30</td>\n",
              "      <td>64</td>\n",
              "      <td>1</td>\n",
              "      <td>1</td>\n",
              "    </tr>\n",
              "    <tr>\n",
              "      <th>1</th>\n",
              "      <td>30</td>\n",
              "      <td>62</td>\n",
              "      <td>3</td>\n",
              "      <td>1</td>\n",
              "    </tr>\n",
              "    <tr>\n",
              "      <th>2</th>\n",
              "      <td>30</td>\n",
              "      <td>65</td>\n",
              "      <td>0</td>\n",
              "      <td>1</td>\n",
              "    </tr>\n",
              "    <tr>\n",
              "      <th>3</th>\n",
              "      <td>31</td>\n",
              "      <td>59</td>\n",
              "      <td>2</td>\n",
              "      <td>1</td>\n",
              "    </tr>\n",
              "    <tr>\n",
              "      <th>4</th>\n",
              "      <td>31</td>\n",
              "      <td>65</td>\n",
              "      <td>4</td>\n",
              "      <td>1</td>\n",
              "    </tr>\n",
              "  </tbody>\n",
              "</table>\n",
              "</div>"
            ],
            "text/plain": [
              "   Age  Patient's Years  N_positive_ax  survival_status\n",
              "0   30               64              1                1\n",
              "1   30               62              3                1\n",
              "2   30               65              0                1\n",
              "3   31               59              2                1\n",
              "4   31               65              4                1"
            ]
          },
          "metadata": {},
          "execution_count": 18
        }
      ],
      "source": [
        "# tampilkan 5 baris awal dataset dengan function head()\n",
        "df2.head()"
      ]
    },
    {
      "cell_type": "code",
      "execution_count": 19,
      "metadata": {
        "colab": {
          "base_uri": "https://localhost:8080/",
          "height": 0
        },
        "id": "znc1dEGO_XU2",
        "outputId": "65ac1fc2-5392-47a2-84c9-4d1b1850a667"
      },
      "outputs": [
        {
          "output_type": "execute_result",
          "data": {
            "text/plain": [
              "1    225\n",
              "2     81\n",
              "Name: survival_status, dtype: int64"
            ]
          },
          "metadata": {},
          "execution_count": 19
        }
      ],
      "source": [
        "# hitung jumlah masing\" data pada kolom survival_status\n",
        "df2['survival_status'].value_counts()"
      ]
    },
    {
      "cell_type": "markdown",
      "metadata": {
        "id": "DJ317J-2vdDO"
      },
      "source": [
        "#### NO 1"
      ]
    },
    {
      "cell_type": "code",
      "source": [
        "# 1. pembagian variabel train dan test\n",
        "# test size= 25%, random state = 42, dan stratify = y\n",
        "X = df2.drop('survival_status', axis = 1)\n",
        "y = df2['survival_status']\n",
        "\n",
        "X_train, X_test, y_train, y_test = train_test_split(X, y, test_size=0.25, random_state=21, stratify=y)"
      ],
      "metadata": {
        "id": "jqiLB_f3oghK"
      },
      "execution_count": 20,
      "outputs": []
    },
    {
      "cell_type": "markdown",
      "metadata": {
        "id": "19t28ciJvdDR"
      },
      "source": [
        "#### NO 2"
      ]
    },
    {
      "cell_type": "code",
      "source": [
        "# 2. import library KNN dan GridSearchCv\n",
        "from sklearn.neighbors import KNeighborsClassifier\n",
        "from sklearn.model_selection import GridSearchCV\n",
        "from sklearn.model_selection import cross_val_score,cross_validate\n",
        "from sklearn.metrics import confusion_matrix, classification_report"
      ],
      "metadata": {
        "id": "odjkT9dlpA5M"
      },
      "execution_count": 21,
      "outputs": []
    },
    {
      "cell_type": "markdown",
      "metadata": {
        "id": "rrMW9ZZQvdDU"
      },
      "source": [
        "#### NO 3 - 6"
      ]
    },
    {
      "cell_type": "code",
      "source": [
        "# 3. tuning hyperparameter dengan GridSearchCV (parameter cv=10)\n",
        "## build model KNN\n",
        "model_knn = KNeighborsClassifier()\n",
        "param_grid = {'n_neighbors' : np.arange(3,51), 'weights' : ['uniform','distance']}\n",
        "gscv = GridSearchCV(model_knn, param_grid, scoring='roc_auc', cv = 10)\n",
        "gscv.fit(X_train, y_train)"
      ],
      "metadata": {
        "colab": {
          "base_uri": "https://localhost:8080/",
          "height": 0
        },
        "id": "dc3cGBijo-wE",
        "outputId": "acc52810-2565-484a-df55-b1bb6ad45dc3"
      },
      "execution_count": 26,
      "outputs": [
        {
          "output_type": "execute_result",
          "data": {
            "text/plain": [
              "GridSearchCV(cv=10, estimator=KNeighborsClassifier(),\n",
              "             param_grid={'n_neighbors': array([ 3,  4,  5,  6,  7,  8,  9, 10, 11, 12, 13, 14, 15, 16, 17, 18, 19,\n",
              "       20, 21, 22, 23, 24, 25, 26, 27, 28, 29, 30, 31, 32, 33, 34, 35, 36,\n",
              "       37, 38, 39, 40, 41, 42, 43, 44, 45, 46, 47, 48, 49, 50]),\n",
              "                         'weights': ['uniform', 'distance']},\n",
              "             scoring='roc_auc')"
            ]
          },
          "metadata": {},
          "execution_count": 26
        }
      ]
    },
    {
      "cell_type": "code",
      "source": [
        "# 7. parameter terbaik\n",
        "gscv.best_params_"
      ],
      "metadata": {
        "colab": {
          "base_uri": "https://localhost:8080/",
          "height": 0
        },
        "id": "REdzyrFqqWd1",
        "outputId": "414082b2-bf9d-468b-8d7f-1cf404051fa7"
      },
      "execution_count": 28,
      "outputs": [
        {
          "output_type": "execute_result",
          "data": {
            "text/plain": [
              "{'n_neighbors': 7, 'weights': 'distance'}"
            ]
          },
          "metadata": {},
          "execution_count": 28
        }
      ]
    },
    {
      "cell_type": "code",
      "source": [
        "gscv.best_params_"
      ],
      "metadata": {
        "colab": {
          "base_uri": "https://localhost:8080/",
          "height": 0
        },
        "id": "mere7h8Lp1AE",
        "outputId": "8816dfd3-38d0-4b6e-dfd8-f30415b3d4e1"
      },
      "execution_count": 25,
      "outputs": [
        {
          "output_type": "execute_result",
          "data": {
            "text/plain": [
              "{'n_neighbors': 48, 'weights': 'uniform'}"
            ]
          },
          "metadata": {},
          "execution_count": 25
        }
      ]
    },
    {
      "cell_type": "markdown",
      "metadata": {
        "id": "-Rd6vuJ2vdDb"
      },
      "source": [
        "#### NO 7"
      ]
    },
    {
      "cell_type": "markdown",
      "metadata": {
        "id": "MH1Hhhh3vdDh"
      },
      "source": [
        "#### NO 8"
      ]
    },
    {
      "cell_type": "code",
      "source": [
        "# 8. score validasi terbaik\n",
        "gscv.best_score_"
      ],
      "metadata": {
        "colab": {
          "base_uri": "https://localhost:8080/",
          "height": 0
        },
        "id": "608zPbQEqkqi",
        "outputId": "205c9fd5-aad0-404b-88b4-e8a6ca497e11"
      },
      "execution_count": 29,
      "outputs": [
        {
          "output_type": "execute_result",
          "data": {
            "text/plain": [
              "0.7102853641456581"
            ]
          },
          "metadata": {},
          "execution_count": 29
        }
      ]
    },
    {
      "cell_type": "markdown",
      "metadata": {
        "id": "xw6osYXCvdDn"
      },
      "source": [
        "#### NO 9"
      ]
    },
    {
      "cell_type": "code",
      "source": [
        "# 9. prediksikan probabilitas masing-masing data test\n",
        "y_predict = gscv.predict_proba(X_test)\n",
        "y_predict"
      ],
      "metadata": {
        "colab": {
          "base_uri": "https://localhost:8080/",
          "height": 0
        },
        "id": "ES5IqhIoqwYu",
        "outputId": "f8f2dcd8-925c-4d27-d01c-67e5561370a3"
      },
      "execution_count": 30,
      "outputs": [
        {
          "output_type": "execute_result",
          "data": {
            "text/plain": [
              "array([[0.82183144, 0.17816856],\n",
              "       [0.87974092, 0.12025908],\n",
              "       [0.70010788, 0.29989212],\n",
              "       [0.        , 1.        ],\n",
              "       [0.72658536, 0.27341464],\n",
              "       [1.        , 0.        ],\n",
              "       [0.49037589, 0.50962411],\n",
              "       [0.70607971, 0.29392029],\n",
              "       [0.83838399, 0.16161601],\n",
              "       [0.72658536, 0.27341464],\n",
              "       [0.        , 1.        ],\n",
              "       [1.        , 0.        ],\n",
              "       [0.70256836, 0.29743164],\n",
              "       [1.        , 0.        ],\n",
              "       [0.82391652, 0.17608348],\n",
              "       [0.71613283, 0.28386717],\n",
              "       [0.92014294, 0.07985706],\n",
              "       [0.6590515 , 0.3409485 ],\n",
              "       [1.        , 0.        ],\n",
              "       [0.40218932, 0.59781068],\n",
              "       [0.51043115, 0.48956885],\n",
              "       [0.82391652, 0.17608348],\n",
              "       [1.        , 0.        ],\n",
              "       [0.37385926, 0.62614074],\n",
              "       [1.        , 0.        ],\n",
              "       [1.        , 0.        ],\n",
              "       [0.62092455, 0.37907545],\n",
              "       [0.55653973, 0.44346027],\n",
              "       [0.49748233, 0.50251767],\n",
              "       [0.83255241, 0.16744759],\n",
              "       [1.        , 0.        ],\n",
              "       [0.        , 1.        ],\n",
              "       [0.82391652, 0.17608348],\n",
              "       [0.90007298, 0.09992702],\n",
              "       [0.28738116, 0.71261884],\n",
              "       [0.86860684, 0.13139316],\n",
              "       [0.86519152, 0.13480848],\n",
              "       [0.88530268, 0.11469732],\n",
              "       [0.519555  , 0.480445  ],\n",
              "       [0.87287144, 0.12712856],\n",
              "       [0.56141373, 0.43858627],\n",
              "       [0.51238971, 0.48761029],\n",
              "       [0.6930252 , 0.3069748 ],\n",
              "       [0.48712231, 0.51287769],\n",
              "       [0.84986539, 0.15013461],\n",
              "       [1.        , 0.        ],\n",
              "       [1.        , 0.        ],\n",
              "       [0.90439913, 0.09560087],\n",
              "       [0.85711228, 0.14288772],\n",
              "       [0.13163227, 0.86836773],\n",
              "       [0.78679498, 0.21320502],\n",
              "       [0.53173389, 0.46826611],\n",
              "       [0.49531005, 0.50468995],\n",
              "       [0.87717908, 0.12282092],\n",
              "       [0.46493425, 0.53506575],\n",
              "       [1.        , 0.        ],\n",
              "       [0.89348074, 0.10651926],\n",
              "       [0.56351991, 0.43648009],\n",
              "       [1.        , 0.        ],\n",
              "       [0.12147792, 0.87852208],\n",
              "       [0.56007011, 0.43992989],\n",
              "       [0.71903973, 0.28096027],\n",
              "       [0.86323756, 0.13676244],\n",
              "       [1.        , 0.        ],\n",
              "       [0.70868272, 0.29131728],\n",
              "       [0.92194067, 0.07805933],\n",
              "       [0.69758573, 0.30241427],\n",
              "       [0.87594912, 0.12405088],\n",
              "       [0.29570769, 0.70429231],\n",
              "       [1.        , 0.        ],\n",
              "       [0.37814478, 0.62185522],\n",
              "       [0.70246914, 0.29753086],\n",
              "       [1.        , 0.        ],\n",
              "       [0.14839988, 0.85160012],\n",
              "       [0.70428134, 0.29571866],\n",
              "       [0.90395369, 0.09604631],\n",
              "       [0.34154952, 0.65845048]])"
            ]
          },
          "metadata": {},
          "execution_count": 30
        }
      ]
    },
    {
      "cell_type": "code",
      "source": [
        "# nilai rata-rata probabilitas data test\n",
        "y_predict.mean()"
      ],
      "metadata": {
        "colab": {
          "base_uri": "https://localhost:8080/",
          "height": 0
        },
        "id": "e9E639V_rQjf",
        "outputId": "5e8878bd-d45a-44c4-f5b5-57bf640445e1"
      },
      "execution_count": 32,
      "outputs": [
        {
          "output_type": "execute_result",
          "data": {
            "text/plain": [
              "0.5"
            ]
          },
          "metadata": {},
          "execution_count": 32
        }
      ]
    },
    {
      "cell_type": "code",
      "source": [
        "gscv.classes_\n",
        "gscv.predict_proba(X_test)[:,1]"
      ],
      "metadata": {
        "colab": {
          "base_uri": "https://localhost:8080/",
          "height": 0
        },
        "id": "veNag_O5vC9Q",
        "outputId": "66f9283b-78e8-4528-e953-88d2f31e9fcd"
      },
      "execution_count": 40,
      "outputs": [
        {
          "output_type": "execute_result",
          "data": {
            "text/plain": [
              "array([0.17816856, 0.12025908, 0.29989212, 1.        , 0.27341464,\n",
              "       0.        , 0.50962411, 0.29392029, 0.16161601, 0.27341464,\n",
              "       1.        , 0.        , 0.29743164, 0.        , 0.17608348,\n",
              "       0.28386717, 0.07985706, 0.3409485 , 0.        , 0.59781068,\n",
              "       0.48956885, 0.17608348, 0.        , 0.62614074, 0.        ,\n",
              "       0.        , 0.37907545, 0.44346027, 0.50251767, 0.16744759,\n",
              "       0.        , 1.        , 0.17608348, 0.09992702, 0.71261884,\n",
              "       0.13139316, 0.13480848, 0.11469732, 0.480445  , 0.12712856,\n",
              "       0.43858627, 0.48761029, 0.3069748 , 0.51287769, 0.15013461,\n",
              "       0.        , 0.        , 0.09560087, 0.14288772, 0.86836773,\n",
              "       0.21320502, 0.46826611, 0.50468995, 0.12282092, 0.53506575,\n",
              "       0.        , 0.10651926, 0.43648009, 0.        , 0.87852208,\n",
              "       0.43992989, 0.28096027, 0.13676244, 0.        , 0.29131728,\n",
              "       0.07805933, 0.30241427, 0.12405088, 0.70429231, 0.        ,\n",
              "       0.62185522, 0.29753086, 0.        , 0.85160012, 0.29571866,\n",
              "       0.09604631, 0.65845048])"
            ]
          },
          "metadata": {},
          "execution_count": 40
        }
      ]
    },
    {
      "cell_type": "code",
      "source": [
        "cv_score_1 = cross_validate(model_knn, X,y, scoring='roc_auc', cv=5, return_train_score=True)\n",
        "cv_score_2 = cross_val_score(model_knn, X,y, scoring='roc_auc')\n",
        "cv_score_1"
      ],
      "metadata": {
        "colab": {
          "base_uri": "https://localhost:8080/",
          "height": 0
        },
        "id": "zKHDsxxmvI83",
        "outputId": "f6c988bb-1b08-4543-ef0b-0bab657ecbe2"
      },
      "execution_count": 46,
      "outputs": [
        {
          "output_type": "execute_result",
          "data": {
            "text/plain": [
              "{'fit_time': array([0.0055325 , 0.00237775, 0.00284863, 0.00303483, 0.00305009]),\n",
              " 'score_time': array([0.00567484, 0.00331569, 0.00454164, 0.00394893, 0.00340295]),\n",
              " 'test_score': array([0.69869281, 0.58263889, 0.69861111, 0.73055556, 0.54722222]),\n",
              " 'train_score': array([0.85225694, 0.88098291, 0.83324786, 0.83435897, 0.86239316])}"
            ]
          },
          "metadata": {},
          "execution_count": 46
        }
      ]
    },
    {
      "cell_type": "code",
      "execution_count": null,
      "metadata": {
        "colab": {
          "base_uri": "https://localhost:8080/",
          "height": 238
        },
        "id": "sUMrtvGUfWcn",
        "outputId": "aed7560a-67af-4b40-e8db-bebb7e8a6ee3"
      },
      "outputs": [
        {
          "name": "stdout",
          "output_type": "stream",
          "text": [
            "[0.16756916 0.17051611 0.16345985 0.11362437 0.20646919 0.14235942\n",
            " 0.         0.08940655 0.         0.59208121 0.25152363 0.14148435\n",
            " 0.25618281 0.60656564 0.12407537 0.16972843 0.18108432 0.15210734\n",
            " 0.18027431 0.45610922 0.22527062 0.18097357 0.         0.123134\n",
            " 0.51750434 0.54996576 0.42456436 0.         0.18471835 0.08182622\n",
            " 0.         0.12407537 0.         0.32365645 0.18510126 0.\n",
            " 0.08598644 0.16299863 0.34549723 0.28399464 0.13570151 0.32815\n",
            " 0.29270146 0.67340073 0.14847957 0.12473245 0.1342232  0.\n",
            " 0.14412323 0.18529338 1.         0.41369782 0.21534365 0.1726462\n",
            " 0.06934707 0.21228668 0.40228092 0.14180065 0.13197082 0.15725626\n",
            " 0.20849651 0.18027431 0.15104146 0.12348324 0.19489063 0.\n",
            " 0.38934982 0.2209358  0.60105079 0.25547443 0.13157023 0.34982587\n",
            " 0.21589415 0.0855198  0.22196137 0.23216426 0.13983004]\n"
          ]
        }
      ],
      "source": [
        "# 10. nilai score roc_auc \n",
        "kurang_5th = <.............>[:,1]\n",
        "print(<.............>)"
      ]
    },
    {
      "cell_type": "markdown",
      "metadata": {
        "id": "bSLZrpeYvdDy"
      },
      "source": [
        "#### NO 11 "
      ]
    },
    {
      "cell_type": "markdown",
      "metadata": {
        "id": "mHjZmxFyfejG"
      },
      "source": [
        " <p style=\"color:#FF0000\">Jawab</p>\n"
      ]
    },
    {
      "cell_type": "markdown",
      "metadata": {
        "id": "RiSYJctpvdD-"
      },
      "source": [
        "<h1> Soal 5: </h1>\n",
        "\n",
        "\n",
        "1. Ulangi tahap di atas (soal 4, no 1 - 8) namun kali ini menggunakan algoritma DecisionTreeClassifier dan kalian bisa menggunakan RandomizedSearchCV apabila process training lama. pelajari algoritma DecisionTreeClassifier di linkberikut: https://scikit-learn.org/stable/modules/generated/sklearn.tree.DecisionTreeClassifier.html?highlight=decisiontreeclassifier#sklearn.tree.DecisionTreeClassifier\n",
        "2. Bandingkan scorenya dengan Algoritma KNN, mana yang lebih baik?\n",
        "\n",
        "Note : Data Science adalah experiment, sangat di dimungkinkan memerlukan beberapa kali percobaan untuk mendapatkan hasil yang terbaik! Happy Coding :)"
      ]
    },
    {
      "cell_type": "markdown",
      "metadata": {
        "id": "vfcaMNTSvdEA"
      },
      "source": [
        "#### NO 1"
      ]
    },
    {
      "cell_type": "code",
      "execution_count": 48,
      "metadata": {
        "id": "E4E6YlWOfYwm"
      },
      "outputs": [],
      "source": [
        "# 1. import algoritma DecisionTreeClassifier\n",
        "from sklearn.tree import DecisionTreeClassifier\n",
        "from sklearn.model_selection import RandomizedSearchCV"
      ]
    },
    {
      "cell_type": "code",
      "source": [
        "# Build model decision tree classifier \n",
        "model_tree = DecisionTreeClassifier()\n",
        "params = {'criterion' : ['entropy','gini'], 'splitter' : ['best', 'random'],\n",
        "         'min_samples_split' : np.arange(2,50)}\n",
        "gscv = GridSearchCV(model_tree, param_grid = params, cv = 10 , scoring = 'roc_auc')\n",
        "gscv.fit(X_train, y_train)"
      ],
      "metadata": {
        "colab": {
          "base_uri": "https://localhost:8080/",
          "height": 0
        },
        "id": "WmPwB4m8w2JZ",
        "outputId": "9bff0a9b-9d61-46ad-b195-b3578eeabc7e"
      },
      "execution_count": 49,
      "outputs": [
        {
          "output_type": "execute_result",
          "data": {
            "text/plain": [
              "GridSearchCV(cv=10, estimator=DecisionTreeClassifier(),\n",
              "             param_grid={'criterion': ['entropy', 'gini'],\n",
              "                         'min_samples_split': array([ 2,  3,  4,  5,  6,  7,  8,  9, 10, 11, 12, 13, 14, 15, 16, 17, 18,\n",
              "       19, 20, 21, 22, 23, 24, 25, 26, 27, 28, 29, 30, 31, 32, 33, 34, 35,\n",
              "       36, 37, 38, 39, 40, 41, 42, 43, 44, 45, 46, 47, 48, 49]),\n",
              "                         'splitter': ['best', 'random']},\n",
              "             scoring='roc_auc')"
            ]
          },
          "metadata": {},
          "execution_count": 49
        }
      ]
    },
    {
      "cell_type": "code",
      "source": [
        "from sklearn.tree import DecisionTreeClassifier\n",
        "from sklearn.model_selection import RandomizedSearchCV\n",
        "model_dt = DecisionTreeClassifier()\n",
        "param_grid = {'splitter':['best','random'], 'criterion':['gini','entropy']}\n",
        "rscv= RandomizedSearchCV(model_dt,param_distributions=param_grid,n_iter=100,scoring='roc_auc')\n",
        "#latih model\n",
        "rscv.fit(X,y)"
      ],
      "metadata": {
        "id": "mM_NWC0TwkLV"
      },
      "execution_count": null,
      "outputs": []
    },
    {
      "cell_type": "code",
      "execution_count": null,
      "metadata": {
        "colab": {
          "base_uri": "https://localhost:8080/",
          "height": 374
        },
        "id": "n6AOPaK8fo6e",
        "outputId": "feb25d7b-20d5-4878-ca71-fc098d48525f"
      },
      "outputs": [
        {
          "data": {
            "text/plain": [
              "GridSearchCV(cv=10, estimator=DecisionTreeClassifier(),\n",
              "             param_grid={'criterion': ['entropy', 'gini'],\n",
              "                         'min_samples_split': array([ 2,  3,  4,  5,  6,  7,  8,  9, 10, 11, 12, 13, 14, 15, 16, 17, 18,\n",
              "       19, 20, 21, 22, 23, 24, 25, 26, 27, 28, 29, 30, 31, 32, 33, 34, 35,\n",
              "       36, 37, 38, 39, 40, 41, 42, 43, 44, 45, 46, 47, 48, 49]),\n",
              "                         'splitter': ['best', 'random']},\n",
              "             scoring='roc_auc')"
            ]
          },
          "execution_count": 155,
          "metadata": {},
          "output_type": "execute_result"
        }
      ],
      "source": [
        "# Build model decision tree classifier \n",
        "model_tree = DecisionTreeClassifier()\n",
        "params = {'criterion' : ['entropy','gini'], 'splitter' : ['best', 'random'],\n",
        "         'min_samples_split' : np.arange(2,50)}\n",
        "gscv = GridSearchCV(model_tree, param_grid = params, cv = 10 , scoring = 'roc_auc')\n",
        "gscv.fit(X_train, y_train)"
      ]
    },
    {
      "cell_type": "code",
      "source": [
        "gscv.best_params_"
      ],
      "metadata": {
        "colab": {
          "base_uri": "https://localhost:8080/",
          "height": 0
        },
        "id": "N5IZKoe1w-eb",
        "outputId": "735e2852-3ac9-4fc7-f608-87c1334c1369"
      },
      "execution_count": 50,
      "outputs": [
        {
          "output_type": "execute_result",
          "data": {
            "text/plain": [
              "{'criterion': 'gini', 'min_samples_split': 33, 'splitter': 'random'}"
            ]
          },
          "metadata": {},
          "execution_count": 50
        }
      ]
    },
    {
      "cell_type": "code",
      "source": [
        "gscv.best_score_"
      ],
      "metadata": {
        "colab": {
          "base_uri": "https://localhost:8080/",
          "height": 0
        },
        "id": "TcIiQ-aIxDgQ",
        "outputId": "4bf1def4-3f02-43fa-fcec-09fcb723d840"
      },
      "execution_count": 51,
      "outputs": [
        {
          "output_type": "execute_result",
          "data": {
            "text/plain": [
              "0.7193189775910364"
            ]
          },
          "metadata": {},
          "execution_count": 51
        }
      ]
    },
    {
      "cell_type": "markdown",
      "metadata": {
        "id": "941QNcHAvdEI"
      },
      "source": [
        "#### NO 2"
      ]
    },
    {
      "cell_type": "markdown",
      "metadata": {
        "id": "mF4C599vf5c-"
      },
      "source": [
        "**Bandingkan scorenya dengan Algoritma KNN, mana yang lebih baik?**\n",
        "\n",
        "Menggunakan dataset Haberman Survival Dataset, Algoritma DecisionTreeClassifier memiliki score lebih tinggi (lebih baik) dari Algoritma KNN"
      ]
    }
  ],
  "metadata": {
    "colab": {
      "collapsed_sections": [],
      "name": "Tugas Mandiri_Pertemuan_16_Rani Purna Gunawanti_ITB_Kelas-05.ipynb",
      "provenance": []
    },
    "kernelspec": {
      "display_name": "Python 3",
      "language": "python",
      "name": "python3"
    },
    "language_info": {
      "codemirror_mode": {
        "name": "ipython",
        "version": 3
      },
      "file_extension": ".py",
      "mimetype": "text/x-python",
      "name": "python",
      "nbconvert_exporter": "python",
      "pygments_lexer": "ipython3",
      "version": "3.8.8"
    }
  },
  "nbformat": 4,
  "nbformat_minor": 0
}